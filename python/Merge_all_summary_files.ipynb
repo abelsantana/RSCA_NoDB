{
 "cells": [
  {
   "cell_type": "code",
   "execution_count": 1,
   "metadata": {},
   "outputs": [
    {
     "name": "stdout",
     "output_type": "stream",
     "text": [
      "✅ Merged Monitoring CSV saved to: /Users/abelsantana/Documents/MyR/RSCA_Project_Fixed/output/Merged_Monitoring_Recommendations.csv\n"
     ]
    },
    {
     "name": "stderr",
     "output_type": "stream",
     "text": [
      "/var/folders/cd/fbr9_7kd4vz131xt4dczpmgh0000gq/T/ipykernel_38082/3174357900.py:59: FutureWarning: The behavior of DataFrame concatenation with empty or all-NA entries is deprecated. In a future version, this will no longer exclude empty or all-NA columns when determining the result dtypes. To retain the old behavior, exclude the relevant entries before the concat operation.\n",
      "  merged_df = pd.concat(df_list, ignore_index=True)\n"
     ]
    },
    {
     "name": "stdout",
     "output_type": "stream",
     "text": [
      "✅ Merged CSV saved for 'Module Summary': /Users/abelsantana/Documents/MyR/RSCA_Project_Fixed/output/Merged_Module_Summary.csv\n",
      "✅ Merged CSV saved for 'LOA Summary': /Users/abelsantana/Documents/MyR/RSCA_Project_Fixed/output/Merged_LOA_Summary.csv\n",
      "✅ Merged CSV saved for 'Reference Condition Comparison': /Users/abelsantana/Documents/MyR/RSCA_Project_Fixed/output/Merged_Reference_Condition_Comparison.csv\n",
      "✅ Merged CSV saved for 'Stressor Response Summary': /Users/abelsantana/Documents/MyR/RSCA_Project_Fixed/output/Merged_Stressor_Response_Summary.csv\n",
      "✅ Merged CSV saved for 'Spatial Co-Occurrence Summary': /Users/abelsantana/Documents/MyR/RSCA_Project_Fixed/output/Merged_Spatial_Co-Occurrence_Summary.csv\n",
      "✅ Merged CSV saved for 'RSCA Comparator Site Data': /Users/abelsantana/Documents/MyR/RSCA_Project_Fixed/output/Merged_RSCA_Comparator_Site_Data.csv\n"
     ]
    }
   ],
   "source": [
    "import os\n",
    "import pandas as pd\n",
    "\n",
    "# Set the main directory where subfolders contain .xlsx files\n",
    "main_folder = r\"/Users/abelsantana/Documents/MyR/RSCA_Project_Fixed/output\"  # Change this to your actual folder path\n",
    "\n",
    "# Define the worksheet names from \"Summary_Site_Data\"\n",
    "summary_sheet_names = [\n",
    "    \"Module Summary\",\n",
    "    \"LOA Summary\",\n",
    "    \"Reference Condition Comparison\",\n",
    "    \"Stressor Response Summary\",\n",
    "    \"Spatial Co-Occurrence Summary\",\n",
    "    \"RSCA Comparator Site Data\"\n",
    "]\n",
    "\n",
    "# Create dictionaries to store data for merging\n",
    "merged_summary_data = {sheet: [] for sheet in summary_sheet_names}  # Store Summary_Site_Data\n",
    "monitoring_list = []  # Store Monitoring_Recommendations\n",
    "\n",
    "# Walk through all subdirectories to find .xlsx files\n",
    "for root, _, files in os.walk(main_folder):\n",
    "    for file in files:\n",
    "        if file.endswith('.xlsx'):\n",
    "            file_path = os.path.join(root, file)\n",
    "            try:\n",
    "                # Process \"Monitoring_Recommendations\" files\n",
    "                if \"Monitoring_Recommendations\" in file:\n",
    "                    df = pd.read_excel(file_path, engine=\"openpyxl\")  # Read single-sheet Excel file\n",
    "                    df['Source_File'] = file  # Add filename as a new column\n",
    "                    monitoring_list.append(df)\n",
    "\n",
    "                # Process \"Summary_Site_Data\" files\n",
    "                elif \"Summary_Site_Data\" in file:\n",
    "                    sheets = pd.read_excel(file_path, sheet_name=None, engine=\"openpyxl\")  # Read all sheets\n",
    "\n",
    "                    for sheet in summary_sheet_names:\n",
    "                        if sheet in sheets:  # Ensure sheet exists\n",
    "                            df = sheets[sheet]\n",
    "                            #df['Source_File'] = file  # Add filename as a column\n",
    "                            #df['Sheet_Name'] = sheet  # Add sheet name as a column\n",
    "                            merged_summary_data[sheet].append(df)\n",
    "\n",
    "            except Exception as e:\n",
    "                print(f\"❌ Error reading {file_path}: {e}\")\n",
    "\n",
    "# ✅ Save \"Monitoring_Recommendations\" merged CSV\n",
    "if monitoring_list:\n",
    "    merged_monitoring = pd.concat(monitoring_list, ignore_index=True)\n",
    "    output_monitoring = os.path.join(main_folder, \"Merged_Monitoring_Recommendations.csv\")\n",
    "    merged_monitoring.to_csv(output_monitoring, index=False)\n",
    "    print(f\"✅ Merged Monitoring CSV saved to: {output_monitoring}\")\n",
    "else:\n",
    "    print(\"❌ No 'Monitoring_Recommendations' files found.\")\n",
    "\n",
    "# ✅ Save each \"Summary_Site_Data\" sheet separately\n",
    "for sheet, df_list in merged_summary_data.items():\n",
    "    if df_list:\n",
    "        merged_df = pd.concat(df_list, ignore_index=True)\n",
    "        output_csv = os.path.join(main_folder, f\"Merged_{sheet.replace(' ', '_')}.csv\")\n",
    "        merged_df.to_csv(output_csv, index=False)\n",
    "        print(f\"✅ Merged CSV saved for '{sheet}': {output_csv}\")\n",
    "    else:\n",
    "        print(f\"❌ No data found for '{sheet}'\")"
   ]
  }
 ],
 "metadata": {
  "kernelspec": {
   "display_name": "Python 3 (ipykernel)",
   "language": "python",
   "name": "python3"
  },
  "language_info": {
   "codemirror_mode": {
    "name": "ipython",
    "version": 3
   },
   "file_extension": ".py",
   "mimetype": "text/x-python",
   "name": "python",
   "nbconvert_exporter": "python",
   "pygments_lexer": "ipython3",
   "version": "3.12.2"
  }
 },
 "nbformat": 4,
 "nbformat_minor": 2
}
